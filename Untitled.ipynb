{
 "cells": [
  {
   "cell_type": "markdown",
   "id": "eb5679b7-dd7b-4cff-818f-d3ad9f940acc",
   "metadata": {},
   "source": [
    "Building a Regression Models with Keras\n",
    "\n",
    "This project can be broken down into 4 parts:\n",
    "A. Build a baseline model and run it\n",
    "B. Normalize the data and re-run the model \n",
    "C. Increase the number of epochs from 50 to 100\n",
    "D. Increase the number of hidden layers from 1 to 3\n",
    "\n",
    "The intent is to identify how the mean of the mean squared errors changes with each of the above parts."
   ]
  },
  {
   "cell_type": "markdown",
   "id": "4f80c441-a5ac-4336-a4a1-6bf22fab18e6",
   "metadata": {},
   "source": [
    "A. Build the baseline model\n",
    "\n",
    "First step is to include the libraries that are needed in the notebook"
   ]
  },
  {
   "cell_type": "code",
   "execution_count": null,
   "id": "03c6566a-a5fc-4f5a-8145-dc66d7bc9492",
   "metadata": {},
   "outputs": [],
   "source": [
    "# All Libraries required for this lab are listed below. The libraries pre-installed on Skills Network Labs are commented. \n",
    "# If you run this notebook on a different environment, e.g. your desktop, you may need to uncomment and install certain libraries.\n",
    "\n",
    "#!pip install numpy==1.21.4\n",
    "#!pip install pandas==1.3.4\n",
    "#!pip install keras==2.1.6"
   ]
  },
  {
   "cell_type": "markdown",
   "id": "c831b481-7613-4404-be35-ab19524ada6b",
   "metadata": {},
   "source": [
    "Import the various packages that are needed"
   ]
  },
  {
   "cell_type": "code",
   "execution_count": null,
   "id": "18108666-8887-4cf3-8aea-48b8b2a733f5",
   "metadata": {},
   "outputs": [],
   "source": [
    "import pandas as pd\n",
    "import numpy as np\n",
    "import keras\n",
    "from keras.models import Sequential\n",
    "from keras.layers import Dense\n",
    "from sklearn.model_selection import train_test_split\n",
    "from sklearn.metrics import mean_squared_error"
   ]
  },
  {
   "cell_type": "markdown",
   "id": "0c1b1445-96c9-4349-9ce0-433c656c296c",
   "metadata": {},
   "source": [
    "Load the dataset for the concrete that we will be processing:"
   ]
  },
  {
   "cell_type": "code",
   "execution_count": null,
   "id": "4ee76a47-f871-4df7-9f15-8ba18ba07455",
   "metadata": {},
   "outputs": [],
   "source": [
    "concrete_data = pd.read_csv('https://s3-api.us-geo.objectstorage.softlayer.net/cf-courses-data/CognitiveClass/DL0101EN/labs/data/concrete_data.csv')\n",
    "concrete_data.head()"
   ]
  },
  {
   "cell_type": "code",
   "execution_count": null,
   "id": "4657c72c-0fbe-47e1-ae2f-5f0a298d095c",
   "metadata": {},
   "outputs": [],
   "source": []
  }
 ],
 "metadata": {
  "kernelspec": {
   "display_name": "Python 3 (ipykernel)",
   "language": "python",
   "name": "python3"
  },
  "language_info": {
   "codemirror_mode": {
    "name": "ipython",
    "version": 3
   },
   "file_extension": ".py",
   "mimetype": "text/x-python",
   "name": "python",
   "nbconvert_exporter": "python",
   "pygments_lexer": "ipython3",
   "version": "3.12.3"
  }
 },
 "nbformat": 4,
 "nbformat_minor": 5
}
